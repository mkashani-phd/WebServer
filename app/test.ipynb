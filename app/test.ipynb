{
 "cells": [
  {
   "cell_type": "code",
   "execution_count": 4,
   "metadata": {},
   "outputs": [
    {
     "name": "stdout",
     "output_type": "stream",
     "text": [
      "b'hello From Server' 0 0.04500913619995117\n",
      "REQUEST TIMED OUT\n",
      "REQUEST TIMED OUT\n",
      "REQUEST TIMED OUT\n",
      "b'hello From Server' 4 0.04425692558288574\n",
      "b'hello From Server' 5 0.044888973236083984\n",
      "REQUEST TIMED OUT\n",
      "b'hello From Server' 7 0.04379391670227051\n",
      "b'hello From Server' 8 0.04418802261352539\n",
      "b'hello From Server' 9 0.0445561408996582\n"
     ]
    }
   ],
   "source": [
    "import time\n",
    "import socket\n",
    "\n",
    "for pings in range(10):\n",
    "    client_socket = socket.socket(socket.AF_INET, socket.SOCK_DGRAM)\n",
    "    client_socket.settimeout(1.0)\n",
    "    message = b'test'\n",
    "    addr = (\"54.147.195.113\", 23423)\n",
    "\n",
    "    start = time.time()\n",
    "    client_socket.sendto(message, addr)\n",
    "    try:\n",
    "        data, server = client_socket.recvfrom(1024)\n",
    "        end = time.time()\n",
    "        elapsed = end - start\n",
    "        print(f'{data} {pings} {elapsed}')\n",
    "    except socket.timeout:\n",
    "        print('REQUEST TIMED OUT')"
   ]
  }
 ],
 "metadata": {
  "kernelspec": {
   "display_name": "Python 3",
   "language": "python",
   "name": "python3"
  },
  "language_info": {
   "codemirror_mode": {
    "name": "ipython",
    "version": 3
   },
   "file_extension": ".py",
   "mimetype": "text/x-python",
   "name": "python",
   "nbconvert_exporter": "python",
   "pygments_lexer": "ipython3",
   "version": "3.9.6"
  }
 },
 "nbformat": 4,
 "nbformat_minor": 2
}
